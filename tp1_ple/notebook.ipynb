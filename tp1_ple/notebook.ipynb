{
 "cells": [
  {
   "cell_type": "code",
   "execution_count": 1,
   "metadata": {},
   "outputs": [],
   "source": [
    "import cplex\n",
    "from asignacion_cuadrillas import armar_lp, resolver_lp, mostrar_solucion, cargar_instancia_con_configuracion\n",
    "from cplex._internal._constants import CPX_VARSEL_DEFAULT, CPX_VARSEL_STRONG, CPX_ON, CPX_OFF"
   ]
  },
  {
   "cell_type": "code",
   "execution_count": 2,
   "metadata": {},
   "outputs": [],
   "source": [
    "def configurar_y_resolver(path, **config):\n",
    "    instancia = cargar_instancia_con_configuracion(path, **config)\n",
    "    prob = cplex.Cplex()\n",
    "    armar_lp(prob, instancia, shouldWrite=False)\n",
    "    resolver_lp(prob, instancia)\n",
    "    mostrar_solucion(prob, instancia)"
   ]
  },
  {
   "cell_type": "markdown",
   "metadata": {},
   "source": [
    "activar_restriccion_opcional_1 = False, \n",
    "activar_restriccion_opcional_2 = False,\n",
    "tolerancia = 1e-6,\n",
    "seleccion_nodo = None,\n",
    "seleccion_variable = None,\n",
    "heuristica_primal = None,\n",
    "preproceso = None"
   ]
  },
  {
   "cell_type": "code",
   "execution_count": 3,
   "metadata": {},
   "outputs": [
    {
     "name": "stdout",
     "output_type": "stream",
     "text": [
      "Version identifier: 22.1.1.0 | 2022-11-27 | 9160aff4d\n",
      "CPXPARAM_Preprocessing_Presolve                  0\n",
      "CPXPARAM_Read_DataCheck                          1\n",
      "CPXPARAM_MIP_Strategy_VariableSelect             3\n",
      "CPXPARAM_MIP_Tolerances_MIPGap                   9.9999999999999995e-07\n",
      "Found incumbent of value 0.000000 after 0.00 sec. (0.10 ticks)\n",
      "Clique table members: 1233.\n",
      "MIP emphasis: balance optimality and feasibility.\n",
      "MIP search method: dynamic search.\n",
      "Parallel mode: deterministic, using up to 16 threads.\n",
      "Root relaxation solution time = 0.05 sec. (37.78 ticks)\n",
      "\n",
      "        Nodes                                         Cuts/\n",
      "   Node  Left     Objective  IInf  Best Integer    Best Bound    ItCnt     Gap\n",
      "\n",
      "*     0+    0                            0.0000  4143000.0000              --- \n",
      "      0     0   108000.0000    61        0.0000   108000.0000      414     --- \n",
      "*     0+    0                        18000.0000   108000.0000           500.00%\n",
      "      0     0        cutoff          18000.0000    18000.0000      563    0.00%\n",
      "Elapsed time = 0.26 sec. (188.95 ticks, tree = 0.01 MB, solutions = 2)\n",
      "\n",
      "Root node processing (before b&c):\n",
      "  Real time             =    0.26 sec. (188.97 ticks)\n",
      "Parallel b&c, 16 threads:\n",
      "  Real time             =    0.00 sec. (0.00 ticks)\n",
      "  Sync time (average)   =    0.00 sec.\n",
      "  Wait time (average)   =    0.00 sec.\n",
      "                          ------------\n",
      "Total (root+branch&cut) =    0.26 sec. (188.97 ticks)\n",
      "Funcion objetivo:  18000.0 (integer optimal solution)\n",
      "Trabajador 0 trabaja en la orden 0 en el dia 1\n",
      "Trabajador 0 trabaja en la orden 5 en el dia 1\n",
      "Trabajador 0 trabaja en la orden 7 en el dia 3\n",
      "Trabajador 1 trabaja en la orden 2 en el dia 2\n",
      "Trabajador 1 trabaja en la orden 3 en el dia 1\n",
      "Trabajador 3 trabaja en la orden 5 en el dia 1\n",
      "Trabajador 4 trabaja en la orden 1 en el dia 4\n",
      "Trabajador 4 trabaja en la orden 3 en el dia 1\n",
      "Trabajador 4 trabaja en la orden 5 en el dia 1\n",
      "Trabajador 4 trabaja en la orden 7 en el dia 3\n",
      "Trabajador 5 trabaja en la orden 3 en el dia 1\n",
      "Trabajador 7 trabaja en la orden 1 en el dia 4\n",
      "Trabajador 7 trabaja en la orden 5 en el dia 1\n",
      "Trabajador 8 trabaja en la orden 0 en el dia 1\n",
      "Trabajador 8 trabaja en la orden 4 en el dia 2\n",
      "Trabajador 9 trabaja en la orden 0 en el dia 1\n",
      "Trabajador 9 trabaja en la orden 2 en el dia 2\n",
      "Trabajador 9 trabaja en la orden 3 en el dia 1\n",
      "Trabajador 9 trabaja en la orden 5 en el dia 1\n",
      "Trabajador 9 trabaja en la orden 7 en el dia 3\n",
      "La orden 0 se asigna al turno 4 del dia 1\n",
      "La orden 1 se asigna al turno 4 del dia 4\n",
      "La orden 2 se asigna al turno 2 del dia 2\n",
      "La orden 3 se asigna al turno 1 del dia 1\n",
      "La orden 4 se asigna al turno 1 del dia 2\n",
      "La orden 5 se asigna al turno 3 del dia 1\n",
      "La orden 7 se asigna al turno 2 del dia 3\n",
      "La orden 0 es realizada por los trabajadores [0, 8, 9]\n",
      "La orden 1 es realizada por los trabajadores [4, 7]\n",
      "La orden 2 es realizada por los trabajadores [1, 9]\n",
      "La orden 3 es realizada por los trabajadores [1, 4, 5, 9]\n",
      "La orden 4 es realizada por los trabajadores [8]\n",
      "La orden 5 es realizada por los trabajadores [0, 3, 4, 7, 9]\n",
      "La orden 6 no se realiza. Por lo tanto, los trabajadores son []\n",
      "La orden 7 es realizada por los trabajadores [0, 4, 9]\n",
      "La orden 8 no se realiza. Por lo tanto, los trabajadores son []\n"
     ]
    }
   ],
   "source": [
    "configurar_y_resolver(\"./entradas/entrada2.txt\", activar_restriccion_opcional_1 = True, preproceso = CPX_OFF, seleccion_variable = CPX_VARSEL_STRONG)"
   ]
  }
 ],
 "metadata": {
  "kernelspec": {
   "display_name": "invop",
   "language": "python",
   "name": "python3"
  },
  "language_info": {
   "codemirror_mode": {
    "name": "ipython",
    "version": 3
   },
   "file_extension": ".py",
   "mimetype": "text/x-python",
   "name": "python",
   "nbconvert_exporter": "python",
   "pygments_lexer": "ipython3",
   "version": "3.10.14"
  }
 },
 "nbformat": 4,
 "nbformat_minor": 2
}
