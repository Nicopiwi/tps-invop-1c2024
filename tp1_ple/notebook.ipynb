{
 "cells": [
  {
   "cell_type": "code",
   "execution_count": 1,
   "metadata": {},
   "outputs": [],
   "source": [
    "import cplex\n",
    "from asignacion_cuadrillas import armar_lp, resolver_lp, mostrar_solucion, cargar_instancia_con_configuracion\n",
    "from cplex._internal._constants import CPX_VARSEL_DEFAULT"
   ]
  },
  {
   "cell_type": "code",
   "execution_count": 4,
   "metadata": {},
   "outputs": [],
   "source": [
    "def configurar_y_resolver(path, **config):\n",
    "    instancia = cargar_instancia_con_configuracion(path, **config)\n",
    "    prob = cplex.Cplex()\n",
    "    armar_lp(prob, instancia, shouldWrite=False)\n",
    "    resolver_lp(prob, instancia)\n",
    "    mostrar_solucion(prob, instancia)"
   ]
  },
  {
   "cell_type": "markdown",
   "metadata": {},
   "source": [
    "activar_restriccion_opcional_1 = False, \n",
    "activar_restriccion_opcional_2 = False,\n",
    "tolerancia = 1e-6,\n",
    "seleccion_nodo = None,\n",
    "seleccion_variable = None,\n",
    "heuristica_primal = None,\n",
    "preproceso = None"
   ]
  },
  {
   "cell_type": "code",
   "execution_count": 5,
   "metadata": {},
   "outputs": [
    {
     "name": "stdout",
     "output_type": "stream",
     "text": [
      "949\n",
      "Version identifier: 22.1.1.0 | 2022-11-27 | 9160aff4d\n",
      "CPXPARAM_Read_DataCheck                          1\n",
      "CPXPARAM_MIP_Tolerances_MIPGap                   9.9999999999999995e-07\n",
      "Found incumbent of value 0.000000 after 0.00 sec. (0.10 ticks)\n",
      "Tried aggregator 1 time.\n",
      "MIP Presolve eliminated 54 rows and 0 columns.\n",
      "Reduced MIP has 12786 rows, 949 columns, and 63424 nonzeros.\n",
      "Reduced MIP has 909 binaries, 40 generals, 0 SOSs, and 0 indicators.\n",
      "Presolve time = 0.03 sec. (49.40 ticks)\n",
      "Probing time = 0.03 sec. (8.79 ticks)\n",
      "Tried aggregator 1 time.\n",
      "Detecting symmetries...\n",
      "Reduced MIP has 12786 rows, 949 columns, and 63424 nonzeros.\n",
      "Reduced MIP has 909 binaries, 40 generals, 0 SOSs, and 0 indicators.\n",
      "Presolve time = 0.05 sec. (65.36 ticks)\n",
      "Probing time = 0.02 sec. (8.72 ticks)\n",
      "Clique table members: 10625.\n",
      "MIP emphasis: balance optimality and feasibility.\n",
      "MIP search method: dynamic search.\n",
      "Parallel mode: deterministic, using up to 16 threads.\n",
      "Root relaxation solution time = 0.06 sec. (55.02 ticks)\n",
      "\n",
      "        Nodes                                         Cuts/\n",
      "   Node  Left     Objective  IInf  Best Integer    Best Bound    ItCnt     Gap\n",
      "\n",
      "*     0+    0                            0.0000  4143000.0000              --- \n",
      "      0     0   108000.0000    98        0.0000   108000.0000      549     --- \n",
      "*     0+    0                        18000.0000   108000.0000           500.00%\n",
      "      0     0        cutoff          18000.0000       Cuts: 6      759    0.00%\n",
      "      0     0        cutoff          18000.0000    18000.0000      759    0.00%\n",
      "Elapsed time = 0.47 sec. (425.59 ticks, tree = 0.01 MB, solutions = 2)\n",
      "\n",
      "Cover cuts applied:  1\n",
      "Zero-half cuts applied:  4\n",
      "Gomory fractional cuts applied:  1\n",
      "\n",
      "Root node processing (before b&c):\n",
      "  Real time             =    0.48 sec. (425.83 ticks)\n",
      "Parallel b&c, 16 threads:\n",
      "  Real time             =    0.00 sec. (0.00 ticks)\n",
      "  Sync time (average)   =    0.00 sec.\n",
      "  Wait time (average)   =    0.00 sec.\n",
      "                          ------------\n",
      "Total (root+branch&cut) =    0.48 sec. (425.83 ticks)\n",
      "Se ha resuelto el problema en 0.5159999999741558 segundos\n",
      "Funcion objetivo:  18000.0 (integer optimal solution)\n",
      "Trabajador 0 trabaja en la orden 0 en el dia 0\n",
      "Trabajador 0 trabaja en la orden 3 en el dia 2\n",
      "Trabajador 0 trabaja en la orden 5 en el dia 5\n",
      "Trabajador 0 trabaja en la orden 7 en el dia 4\n",
      "Trabajador 2 trabaja en la orden 0 en el dia 0\n",
      "Trabajador 2 trabaja en la orden 7 en el dia 4\n",
      "Trabajador 3 trabaja en la orden 3 en el dia 2\n",
      "Trabajador 3 trabaja en la orden 5 en el dia 5\n",
      "Trabajador 4 trabaja en la orden 3 en el dia 2\n",
      "Trabajador 4 trabaja en la orden 5 en el dia 5\n",
      "Trabajador 6 trabaja en la orden 1 en el dia 5\n",
      "Trabajador 8 trabaja en la orden 1 en el dia 5\n",
      "Trabajador 8 trabaja en la orden 2 en el dia 4\n",
      "Trabajador 8 trabaja en la orden 4 en el dia 2\n",
      "Trabajador 8 trabaja en la orden 5 en el dia 5\n",
      "Trabajador 9 trabaja en la orden 0 en el dia 0\n",
      "Trabajador 9 trabaja en la orden 2 en el dia 4\n",
      "Trabajador 9 trabaja en la orden 3 en el dia 2\n",
      "Trabajador 9 trabaja en la orden 5 en el dia 5\n",
      "Trabajador 9 trabaja en la orden 7 en el dia 4\n",
      "La orden 0 se asigna al turno 4 del dia 0\n",
      "La orden 1 se asigna al turno 1 del dia 5\n",
      "La orden 2 se asigna al turno 3 del dia 4\n",
      "La orden 3 se asigna al turno 1 del dia 2\n",
      "La orden 4 se asigna al turno 1 del dia 2\n",
      "La orden 5 se asigna al turno 2 del dia 5\n",
      "La orden 7 se asigna al turno 0 del dia 4\n",
      "La orden 0 es realizada por los trabajadores [0, 2, 9]\n",
      "La orden 1 es realizada por los trabajadores [6, 8]\n",
      "La orden 2 es realizada por los trabajadores [8, 9]\n",
      "La orden 3 es realizada por los trabajadores [0, 3, 4, 9]\n",
      "La orden 4 es realizada por los trabajadores [8]\n",
      "La orden 5 es realizada por los trabajadores [0, 3, 4, 8, 9]\n",
      "La orden 6 no se realiza. Por lo tanto, los trabajadores son []\n",
      "La orden 7 es realizada por los trabajadores [0, 2, 9]\n",
      "La orden 8 no se realiza. Por lo tanto, los trabajadores son []\n"
     ]
    }
   ],
   "source": [
    "configurar_y_resolver(\"./entradas/entrada2.txt\", activar_restriccion_opcional_1 = True)"
   ]
  }
 ],
 "metadata": {
  "kernelspec": {
   "display_name": "invop",
   "language": "python",
   "name": "python3"
  },
  "language_info": {
   "codemirror_mode": {
    "name": "ipython",
    "version": 3
   },
   "file_extension": ".py",
   "mimetype": "text/x-python",
   "name": "python",
   "nbconvert_exporter": "python",
   "pygments_lexer": "ipython3",
   "version": "3.10.14"
  }
 },
 "nbformat": 4,
 "nbformat_minor": 2
}
